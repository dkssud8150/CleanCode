{
 "cells": [
  {
   "cell_type": "markdown",
   "metadata": {},
   "source": [
    "https://dailyheumsi.tistory.com/221"
   ]
  },
  {
   "cell_type": "markdown",
   "metadata": {},
   "source": [
    "# 컨텍스트 매니저"
   ]
  },
  {
   "cell_type": "markdown",
   "metadata": {},
   "source": [
    "## 데코레이터 클래스 생성"
   ]
  },
  {
   "cell_type": "code",
   "execution_count": 1,
   "metadata": {},
   "outputs": [],
   "source": [
    "import contextlib\n",
    "\n",
    "class dbhandler_decorator(contextlib.ContextDecorator):\n",
    "    def __enter__(self):\n",
    "        print(\"system stop for DB update\")\n",
    "    \n",
    "    def __exit__(self, ext_type, ex_value, ex_traceback):\n",
    "        print(\"system start for DB update\")\n",
    "\n",
    "@dbhandler_decorator()\n",
    "def offline_backup():\n",
    "    print(\"pg_dump database\")\n"
   ]
  },
  {
   "cell_type": "markdown",
   "metadata": {},
   "source": [
    "## 데코레이터 함수로 생성"
   ]
  },
  {
   "cell_type": "code",
   "execution_count": 2,
   "metadata": {},
   "outputs": [
    {
     "name": "stdout",
     "output_type": "stream",
     "text": [
      "system stop for DB\n",
      "database backup\n",
      "system start for DB\n"
     ]
    }
   ],
   "source": [
    "@contextlib.contextmanager\n",
    "def DBHandler(id=\"id\", password=\"password\"):\n",
    "    print(\"system stop for DB\")\n",
    "    yield\n",
    "    print(\"system start for DB\")\n",
    "\n",
    "def db_backup():\n",
    "    print(\"database backup\")\n",
    "\n",
    "with DBHandler(id=\"id\", password=\"password\"):\n",
    "    db_backup()"
   ]
  },
  {
   "cell_type": "markdown",
   "metadata": {},
   "source": [
    "# 프로퍼티 객체"
   ]
  },
  {
   "cell_type": "code",
   "execution_count": 5,
   "metadata": {},
   "outputs": [
    {
     "name": "stdout",
     "output_type": "stream",
     "text": [
      "clean_user은 유효한 이메일이 아닙니다.\n"
     ]
    },
    {
     "data": {
      "text/plain": [
       "'clean_user@example.com'"
      ]
     },
     "execution_count": 5,
     "metadata": {},
     "output_type": "execute_result"
    }
   ],
   "source": [
    "def is_valid_email(email):\n",
    "    return email.find(\"@\") != -1\n",
    "\n",
    "class User:\n",
    "    def __init__(self, username) -> None:\n",
    "        self.username = username\n",
    "        self._email = None\n",
    "    \n",
    "    @property\n",
    "    def email(self):\n",
    "        return self._email\n",
    "    \n",
    "    @email.setter\n",
    "    def email(self, new_email):\n",
    "        if not is_valid_email(new_email):\n",
    "            print(ValueError(f\"{new_email}은 유효한 이메일이 아닙니다.\"))\n",
    "        \n",
    "        self._email = new_email\n",
    "\n",
    "user = User(\"clean_user\")\n",
    "user.email = \"clean_user\" ### 유효한 이메일이 아닙니다.\n",
    "user.email = \"clean_user@example.com\" ### 'clean_user@example.com'\n",
    "user.email"
   ]
  },
  {
   "cell_type": "markdown",
   "metadata": {},
   "source": [
    "# 이터러블 객체"
   ]
  },
  {
   "cell_type": "code",
   "execution_count": 17,
   "metadata": {},
   "outputs": [
    {
     "name": "stdout",
     "output_type": "stream",
     "text": [
      "iter 실행\n",
      "next 실행 2023-01-01\n",
      "next 실행 2023-01-02\n",
      "next 실행 2023-01-03\n",
      "next 실행 2023-01-04\n",
      "next 실행 2023-01-05\n",
      "next 실행 2023-01-06\n",
      "next 실행 2023-01-07\n",
      "next 실행 2023-01-08\n",
      "next 실행 2023-01-09\n",
      "next 실행 2023-01-10\n",
      "next 실행 2023-01-11\n",
      "next 실행 \n",
      "\n",
      "iter 실행\n"
     ]
    },
    {
     "data": {
      "text/plain": [
       "<__main__.DateIterable at 0x17669b77ad0>"
      ]
     },
     "execution_count": 17,
     "metadata": {},
     "output_type": "execute_result"
    }
   ],
   "source": [
    "from datetime import timedelta, date\n",
    "\n",
    "class DateIterable:\n",
    "    def __init__(self, start_date, end_date):\n",
    "        self.start_date = start_date\n",
    "        self.end_date = end_date\n",
    "        self._present_day = start_date\n",
    "\n",
    "    def __iter__(self):\n",
    "        print(\"iter 실행\")\n",
    "        return self\n",
    "\n",
    "    def __next__(self):\n",
    "        print(\"next 실행\", end=\" \")\n",
    "        if self._present_day >= self.end_date:\n",
    "            raise StopIteration\n",
    "        today = self._present_day\n",
    "        self._present_day += timedelta(days=1)\n",
    "        return today\n",
    "    \n",
    "for day in DateIterable(date(2023, 1, 1), date(2023, 1, 12)):\n",
    "    print(day)\n",
    "\n",
    "print(\"\\n\")\n",
    "iter(DateIterable(date(2023, 1, 1), date(2023, 1, 2)))"
   ]
  },
  {
   "cell_type": "code",
   "execution_count": 7,
   "metadata": {},
   "outputs": [],
   "source": [
    "_subject = [1,2,3,4,5,6]\n",
    "\n",
    "assert any([m in dir(_subject) for m in [\"__iter__\", \"__next__\"]])\n",
    "assert all([m in dir(_subject) for m in [\"__len__\", \"__getitem__\"]])"
   ]
  },
  {
   "cell_type": "markdown",
   "metadata": {},
   "source": [
    "# 컨테이너 객체"
   ]
  },
  {
   "cell_type": "code",
   "execution_count": 10,
   "metadata": {},
   "outputs": [
    {
     "name": "stdout",
     "output_type": "stream",
     "text": [
      "[[0, 0, -1], [0, 0, -1], [0, 0, -1]]\n"
     ]
    },
    {
     "ename": "AssertionError",
     "evalue": "(4, 4) 는 범위를 벋어납니다",
     "output_type": "error",
     "traceback": [
      "\u001b[1;31m---------------------------------------------------------------------------\u001b[0m",
      "\u001b[1;31mAssertionError\u001b[0m                            Traceback (most recent call last)",
      "\u001b[1;32mc:\\Users\\dkssu\\github\\CleanCode\\pythonCleanCode\\chapter2\\chapter.ipynb Cell 11\u001b[0m line \u001b[0;36m3\n\u001b[0;32m     <a href='vscode-notebook-cell:/c%3A/Users/dkssu/github/CleanCode/pythonCleanCode/chapter2/chapter.ipynb#X14sZmlsZQ%3D%3D?line=34'>35</a>\u001b[0m mark_coordinate(grid, (\u001b[39m2\u001b[39m,\u001b[39m2\u001b[39m))\n\u001b[0;32m     <a href='vscode-notebook-cell:/c%3A/Users/dkssu/github/CleanCode/pythonCleanCode/chapter2/chapter.ipynb#X14sZmlsZQ%3D%3D?line=36'>37</a>\u001b[0m new_coord \u001b[39m=\u001b[39m (\u001b[39m4\u001b[39m,\u001b[39m4\u001b[39m)\n\u001b[1;32m---> <a href='vscode-notebook-cell:/c%3A/Users/dkssu/github/CleanCode/pythonCleanCode/chapter2/chapter.ipynb#X14sZmlsZQ%3D%3D?line=37'>38</a>\u001b[0m \u001b[39massert\u001b[39;00m new_coord \u001b[39min\u001b[39;00m grid, \u001b[39mf\u001b[39m\u001b[39m\"\u001b[39m\u001b[39m{\u001b[39;00mnew_coord\u001b[39m}\u001b[39;00m\u001b[39m 는 범위를 벋어납니다\u001b[39m\u001b[39m\"\u001b[39m\n",
      "\u001b[1;31mAssertionError\u001b[0m: (4, 4) 는 범위를 벋어납니다"
     ]
    }
   ],
   "source": [
    "class Boundaries:\n",
    "    def __init__(self, width, height):\n",
    "        self.width = width\n",
    "        self.height = height\n",
    "    \n",
    "    def __contains__(self, coord):\n",
    "        x, y = coord\n",
    "        return 0 <= x < self.width and 0 <= y < self.height\n",
    "\n",
    "class Grid:\n",
    "    def __init__(self, width, height) -> None:\n",
    "        self.width = width\n",
    "        self.height = height\n",
    "        self.limit = Boundaries(width, height) # 의도가 직관적으로 파악됨\n",
    "\n",
    "        self.grid = self.make_grid()\n",
    "\n",
    "    def __contains__(self, coord):\n",
    "        return coord in self.limit\n",
    "\n",
    "    def make_grid(self):\n",
    "        import copy\n",
    "        grid = [[0] * self.width] * self.height\n",
    "        self.arr = copy.deepcopy(grid)\n",
    "\n",
    "# Usage\n",
    "def mark_coordinate(grid, coord):\n",
    "    if coord in grid:\n",
    "        x, y = coord\n",
    "        grid.arr[y][x] = -1\n",
    "        print(grid.arr)\n",
    "\n",
    "\n",
    "grid = Grid(3,3)\n",
    "mark_coordinate(grid, (2,2))\n",
    "\n",
    "new_coord = (4,4)\n",
    "assert new_coord in grid, f\"{new_coord} 는 범위를 벋어납니다\""
   ]
  },
  {
   "cell_type": "markdown",
   "metadata": {},
   "source": [
    "# __getattr__"
   ]
  },
  {
   "cell_type": "code",
   "execution_count": 11,
   "metadata": {},
   "outputs": [],
   "source": [
    "class DynamicAttributes:\n",
    "    def __init__(self):\n",
    "        pass\n",
    "\n",
    "    def __getattr__(self, attr):\n",
    "        pass\n",
    "\n",
    "    def __setattr__(self, attr):\n",
    "        if attr in dir(self):\n",
    "            pass"
   ]
  },
  {
   "cell_type": "code",
   "execution_count": null,
   "metadata": {},
   "outputs": [],
   "source": []
  }
 ],
 "metadata": {
  "kernelspec": {
   "display_name": "base",
   "language": "python",
   "name": "python3"
  },
  "language_info": {
   "codemirror_mode": {
    "name": "ipython",
    "version": 3
   },
   "file_extension": ".py",
   "mimetype": "text/x-python",
   "name": "python",
   "nbconvert_exporter": "python",
   "pygments_lexer": "ipython3",
   "version": "3.11.5"
  }
 },
 "nbformat": 4,
 "nbformat_minor": 2
}
